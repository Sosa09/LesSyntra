{
 "cells": [
  {
   "cell_type": "code",
   "execution_count": 2,
   "metadata": {},
   "outputs": [
    {
     "name": "stdout",
     "output_type": "stream",
     "text": [
      "<class 'float'>\n"
     ]
    }
   ],
   "source": [
    "print(type(22/7))\n",
    "print(type(22/7))\n",
    "print(type(22/7))\n",
    "print(type(22/7))\n",
    "print(type(22/7))\n",
    "print(type(22/7))\n",
    "print(type(22/7))\n",
    "print(type(22/7))\n"
   ]
  },
  {
   "cell_type": "code",
   "execution_count": null,
   "metadata": {},
   "outputs": [],
   "source": [
    "print(type(9))\n",
    "print(type(\"String\"))\n",
    "print(type(1.2))\n",
    "print(type(22/7))\n",
    "print(type([]))\n",
    "print(type(()))\n",
    "print(type({}))\n",
    "print(type(0==0))\n",
    "print(type(True))\n",
    "print(type(set()))\n",
    "print(type(frozenset()))"
   ]
  }
 ],
 "metadata": {
  "kernelspec": {
   "display_name": "Python 3.8.0 ('venv': venv)",
   "language": "python",
   "name": "python3"
  },
  "language_info": {
   "codemirror_mode": {
    "name": "ipython",
    "version": 3
   },
   "file_extension": ".py",
   "mimetype": "text/x-python",
   "name": "python",
   "nbconvert_exporter": "python",
   "pygments_lexer": "ipython3",
   "version": "3.8.0"
  },
  "orig_nbformat": 4,
  "vscode": {
   "interpreter": {
    "hash": "9f1f7e12f38471ebe5b35e41bd4b66b4d22583c8bf46ae0b677c398155064d55"
   }
  }
 },
 "nbformat": 4,
 "nbformat_minor": 2
}
